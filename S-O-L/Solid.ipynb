{
  "nbformat": 4,
  "nbformat_minor": 0,
  "metadata": {
    "colab": {
      "provenance": []
    },
    "kernelspec": {
      "name": "python3",
      "display_name": "Python 3"
    },
    "language_info": {
      "name": "python"
    }
  },
  "cells": [
    {
      "cell_type": "markdown",
      "source": [
        "#SINGLE RESPONSIBILITY PRINCIPLE\n",
        "\n"
      ],
      "metadata": {
        "id": "hINJJHbtaPTm"
      }
    },
    {
      "cell_type": "code",
      "source": [
        "import pandas as pd\n",
        "import numpy as np\n",
        "from sklearn.model_selection import train_test_split\n",
        "from sklearn.tree import DecisionTreeClassifier\n",
        "from sklearn.preprocessing import LabelEncoder\n",
        "from sklearn.preprocessing import OneHotEncoder\n",
        "from sklearn.metrics import accuracy_score,classification_report,confusion_matrix"
      ],
      "metadata": {
        "id": "nc_e_M8JnRU3"
      },
      "execution_count": null,
      "outputs": []
    },
    {
      "cell_type": "code",
      "source": [
        "class MLModel:\n",
        "\n",
        "    def cleaning_preprocess(self,path):\n",
        "      df = pd.read_csv(path)\n",
        "\n",
        "      df['Time_taken']  = df['Time_taken'].fillna(df['Time_taken'].mean())\n",
        "\n",
        "      le = LabelEncoder()\n",
        "\n",
        "      df['3D_available'] = le.fit_transform(df['3D_available'])\n",
        "\n",
        "      df['Genre'] = le.fit_transform(df['Genre'])\n",
        "      \n",
        "      print(\"Features have been preprocessed\")\n",
        "\n",
        "      return df\n",
        "\n",
        "    def train(self, df):\n",
        "        X = df.drop('Start_Tech_Oscar',axis=1) \n",
        "\n",
        "        y = df['Start_Tech_Oscar']\n",
        "\n",
        "        X_train, X_test, y_train, y_test = train_test_split(X, y, test_size=0.33, random_state=42)\n",
        "\n",
        "        dt = DecisionTreeClassifier()   \n",
        "\n",
        "        dt.fit(X_train,y_train)\n",
        "\n",
        "        y_predict = dt.predict(X_test)\n",
        "        print(\"Model has been trained\")\n",
        "\n",
        "        return y_test,y_predict\n",
        "\n",
        "    def evaluate(self, y_test,y_predict):\n",
        "        accuracy = accuracy_score(y_test,y_predict)\n",
        "        print('accuracy',accuracy)\n",
        "        print(\"Model has been evaluated\")\n"
      ],
      "metadata": {
        "id": "2Yek9kh02voL"
      },
      "execution_count": null,
      "outputs": []
    },
    {
      "cell_type": "code",
      "source": [
        "if __name__ == \"__main__\":\n",
        "    model = MLModel()\n",
        "    preprocessor = model.cleaning_preprocess('/content/Movie_classification.csv')\n",
        "    y_test,y_predict = model.train(preprocessor)\n",
        "    evaluator = model.evaluate(y_test,y_predict)\n"
      ],
      "metadata": {
        "id": "_25_RTpq2zGL",
        "colab": {
          "base_uri": "https://localhost:8080/"
        },
        "outputId": "ac7fe7a6-b6bd-4130-b1cb-a1686ccdc26c"
      },
      "execution_count": null,
      "outputs": [
        {
          "output_type": "stream",
          "name": "stdout",
          "text": [
            "Features have been preprocessed\n",
            "Model has been trained\n",
            "accuracy 0.5508982035928144\n",
            "Model has been evaluated\n"
          ]
        }
      ]
    },
    {
      "cell_type": "code",
      "execution_count": null,
      "metadata": {
        "id": "w3aFHapcaK1y"
      },
      "outputs": [],
      "source": [
        "class MLModel:\n",
        "\n",
        "     def train(self, df):\n",
        "        X = df.drop('Start_Tech_Oscar',axis=1) \n",
        "\n",
        "        y = df['Start_Tech_Oscar']\n",
        "\n",
        "        X_train, X_test, y_train, y_test = train_test_split(X, y, test_size=0.33, random_state=42)\n",
        "\n",
        "        dt = DecisionTreeClassifier()   \n",
        "\n",
        "        dt.fit(X_train,y_train)\n",
        "\n",
        "        y_predict = dt.predict(X_test)\n",
        "        print(\"Model has been trained\")\n",
        "\n",
        "        return y_test,y_predict\n",
        "\n",
        "\n",
        "class Preprocessor:\n",
        "\n",
        "    def cleaning_preprocess(self,path):\n",
        "\n",
        "      df = pd.read_csv(path)\n",
        "\n",
        "      df['Time_taken']  = df['Time_taken'].fillna(df['Time_taken'].mean())\n",
        "\n",
        "      le = LabelEncoder()\n",
        "\n",
        "      df['3D_available'] = le.fit_transform(df['3D_available'])\n",
        "\n",
        "      df['Genre'] = le.fit_transform(df['Genre'])\n",
        "      \n",
        "      print(\"Features have been preprocessed\")\n",
        "\n",
        "      return df\n",
        "\n",
        "\n",
        "class MlEvaluator:\n",
        "\n",
        "    def evaluate(self, y_test,y_predict):\n",
        "        accuracy = accuracy_score(y_test,y_predict)\n",
        "        print('accuracy',accuracy)\n",
        "        print(\"Model has been evaluated\")\n"
      ]
    },
    {
      "cell_type": "code",
      "source": [
        "if __name__ == \"__main__\":\n",
        "\n",
        "    model = MLModel()\n",
        "    preprocessor = Preprocessor()\n",
        "    evaluator = MlEvaluator()\n",
        "\n",
        "    features = preprocessor.cleaning_preprocess('/content/Movie_classification.csv')\n",
        "    y_test,y_predict = model.train(features)\n",
        "    evaluator.evaluate(y_test,y_predict)"
      ],
      "metadata": {
        "id": "jQC0I12_2jIq",
        "colab": {
          "base_uri": "https://localhost:8080/"
        },
        "outputId": "024589d8-86d1-4779-c6da-90b9c6283588"
      },
      "execution_count": null,
      "outputs": [
        {
          "output_type": "stream",
          "name": "stdout",
          "text": [
            "Features have been preprocessed\n",
            "Model has been trained\n",
            "accuracy 0.5568862275449101\n",
            "Model has been evaluated\n"
          ]
        }
      ]
    },
    {
      "cell_type": "markdown",
      "source": [
        "#Open-Closed Principle"
      ],
      "metadata": {
        "id": "4ywzW6X1JR13"
      }
    },
    {
      "cell_type": "code",
      "source": [
        "################ OCP violation #############################\n",
        "class Vectors:\n",
        "\n",
        "    def label(self, data):\n",
        "      for i in data.columns:\n",
        "        if data[i].dtype==\"object\":\n",
        "          le = LabelEncoder()\n",
        "          data[i] = le.fit_transform(data[i])\n",
        "      print(\"Label Encoder\")\n",
        "\n",
        "    def onehot(self, data):\n",
        "      for i in data.columns:\n",
        "        if data[i].dtype==\"object\":\n",
        "          Oe=OneHotEncoder(sparse=False,drop='first')\n",
        "          data[i]=Oe.fit_transform(data[[i]])\n",
        "\n",
        "      print(\"onehot_encoding\")\n",
        "\n",
        "    def getdummy(self, data):\n",
        "      for i in data.columns:\n",
        "        if data[i].dtype==\"object\":\n",
        "          data = pd.get_dummies(data[i],drop_first=True)\n",
        "          data.drop(columns=i,axis=1,inplace=True)\n",
        "      print(\"get_dummies\")\n",
        "\n",
        "\n",
        "class DLPipeline:\n",
        "\n",
        "    def __init__(self, extractor, feature_type):\n",
        "        self.extractor = extractor\n",
        "        self.feature_type = feature_type\n",
        "\n",
        "    def run(self, path):\n",
        "        print(\"Running DL pipeline\")\n",
        "\n",
        "        df = pd.read_csv(path)\n",
        "\n",
        "        df['Time_taken']  = df['Time_taken'].fillna(df['Time_taken'].mean())\n",
        "\n",
        "        features = self._extract(df)\n",
        "        X = df.drop('Start_Tech_Oscar',axis=1) \n",
        "\n",
        "        y = df['Start_Tech_Oscar']\n",
        "\n",
        "        X_train, X_test, y_train, y_test = train_test_split(X, y, test_size=0.33, random_state=42)\n",
        "\n",
        "        dt = DecisionTreeClassifier()   \n",
        "\n",
        "        dt.fit(X_train,y_train)\n",
        "\n",
        "        y_predict = dt.predict(X_test)\n",
        "\n",
        "        accuracy = accuracy_score(y_test,y_predict)\n",
        "\n",
        "        print('accuracy',accuracy)\n",
        "\n",
        "\n",
        "    def _extract(self, data):\n",
        "        if self.feature_type == \"label_encoder\":\n",
        "            self.extractor.label(data)\n",
        "        elif self.feature_type == \"onehot_encoding\":\n",
        "            self.extractor.onehot(data)\n",
        "        elif self.feature_type == \"get_dummies\":\n",
        "            self.extractor.getdummy(data)\n",
        "\n",
        "\n",
        "if __name__ == \"__main__\":\n",
        "    extractor = Vectors()\n",
        "    dl_pipeline = DLPipeline(extractor, \"onehot_encoding\")\n",
        "    dl_pipeline.run('/content/Movie_classification.csv')\n",
        "################ OCP violation #############################\n"
      ],
      "metadata": {
        "id": "oZvytE7DJkjE",
        "colab": {
          "base_uri": "https://localhost:8080/"
        },
        "outputId": "e9e6dacf-aa72-4b31-ef25-d73ccee3e3a2"
      },
      "execution_count": null,
      "outputs": [
        {
          "output_type": "stream",
          "name": "stdout",
          "text": [
            "Running DL pipeline\n",
            "onehot_encoding\n",
            "accuracy 0.5209580838323353\n"
          ]
        }
      ]
    },
    {
      "cell_type": "code",
      "source": [
        "from abc import abstractmethod, ABC\n",
        "\n",
        "\n",
        "class Extractor(ABC):\n",
        "\n",
        "    @abstractmethod\n",
        "    def extract(self, data):\n",
        "        pass\n",
        "\n",
        "\n",
        "class labelExtractor(Extractor):\n",
        "\n",
        "    def extract(self, data):\n",
        "      for i in data.columns:\n",
        "        if data[i].dtype==\"object\":\n",
        "          le = LabelEncoder()\n",
        "          data[i] = le.fit_transform(data[i])\n",
        "      print(\"Label Encoder\")\n",
        "\n",
        "\n",
        "class onehotExtractor(Extractor):\n",
        "\n",
        "    def extract(self, data):\n",
        "      for i in data.columns:\n",
        "        if data[i].dtype==\"object\":\n",
        "          Oe=OneHotEncoder(sparse=False,drop='first')\n",
        "          data[i]=Oe.fit_transform(data[[i]])\n",
        "\n",
        "      print(\"onehot_encoding\")\n",
        "\n",
        "class getdummyExtractor(Extractor):\n",
        "\n",
        "    def extract(self, data):\n",
        "      for i in data.columns:\n",
        "        if data[i].dtype==\"object\":\n",
        "          data = pd.get_dummies(data[i],drop_first=True)\n",
        "          data.drop(columns=i,axis=1,inplace=True)\n",
        "      print(\"get_dummies\")\n",
        "\n",
        "\n",
        "class DLPipeline:\n",
        "\n",
        "    def __init__(self, extractor):\n",
        "        self.extractor = extractor\n",
        "\n",
        "    def run(self, path):\n",
        "        print(\"Running DL pipeline\")\n",
        "\n",
        "        df = pd.read_csv(path)\n",
        "\n",
        "        df['Time_taken']  = df['Time_taken'].fillna(df['Time_taken'].mean())\n",
        "\n",
        "        features = self._extract(df)\n",
        "        X = df.drop('Start_Tech_Oscar',axis=1) \n",
        "\n",
        "        y = df['Start_Tech_Oscar']\n",
        "\n",
        "        X_train, X_test, y_train, y_test = train_test_split(X, y, test_size=0.33, random_state=42)\n",
        "\n",
        "        dt = DecisionTreeClassifier()   \n",
        "\n",
        "        dt.fit(X_train,y_train)\n",
        "\n",
        "        y_predict = dt.predict(X_test)\n",
        "\n",
        "        accuracy = accuracy_score(y_test,y_predict)\n",
        "\n",
        "        print('accuracy',accuracy)\n",
        "\n",
        "    def _extract(self, data):\n",
        "        self.extractor.extract(data)\n",
        "\n",
        "\n",
        "if __name__ == \"__main__\":\n",
        "    extractor = labelExtractor()\n",
        "    dl_pipeline = DLPipeline(extractor)\n",
        "    dl_pipeline.run('/content/Movie_classification.csv')"
      ],
      "metadata": {
        "id": "JzZ9pZS7veeY",
        "colab": {
          "base_uri": "https://localhost:8080/"
        },
        "outputId": "4762e2e4-bf62-4aa3-953b-10f4068773b7"
      },
      "execution_count": null,
      "outputs": [
        {
          "output_type": "stream",
          "name": "stdout",
          "text": [
            "Running DL pipeline\n",
            "Label Encoder\n",
            "accuracy 0.5508982035928144\n"
          ]
        }
      ]
    },
    {
      "cell_type": "markdown",
      "source": [
        "#Liskov Principle"
      ],
      "metadata": {
        "id": "7_9O0ZNyJ03F"
      }
    },
    {
      "cell_type": "code",
      "source": [
        "class Car():\n",
        "  def __init__(self, type):\n",
        "    self.type = type\n",
        "\n",
        "class PetrolCar(Car):\n",
        "  def __init__(self, type):\n",
        "    self.type = type\n",
        "\n",
        "car = Car(\"SUV\")\n",
        "car.properties = {\"Color\": \"Red\", \"Gear\": \"Auto\", \"Capacity\": 6}\n",
        "\n",
        "petrol_car = PetrolCar(\"Sedan\")\n",
        "petrol_car.properties = (\"Blue\", \"Manual\", 4)\n",
        "print(petrol_car.properties)"
      ],
      "metadata": {
        "colab": {
          "base_uri": "https://localhost:8080/"
        },
        "id": "aUvDffQxP7eZ",
        "outputId": "2471687f-d16b-4111-fa03-306e139b88fd"
      },
      "execution_count": null,
      "outputs": [
        {
          "output_type": "stream",
          "name": "stdout",
          "text": [
            "('Blue', 'Manual', 4)\n"
          ]
        }
      ]
    },
    {
      "cell_type": "code",
      "source": [
        "class Car():\n",
        "  def __init__(self, type):\n",
        "    self.type = type\n",
        "\n",
        "class PetrolCar(Car):\n",
        "  def __init__(self, type):\n",
        "    self.type = type\n",
        "\n",
        "car = Car(\"SUV\")\n",
        "car.properties = {\"Color\": \"Red\", \"Gear\": \"Auto\", \"Capacity\": 6}\n",
        "\n",
        "petrol_car = PetrolCar(\"Sedan\")\n",
        "petrol_car.properties = (\"Blue\", \"Manual\", 4)\n",
        "\n",
        "cars = [car, petrol_car]\n",
        "\n",
        "def find_red_cars(cars):\n",
        "  red_cars = 0\n",
        "  for car in cars:\n",
        "    if car.properties['Color'] == \"Red\":\n",
        "      red_cars += 1\n",
        "  print(f'Number of Red Cars = {red_cars}')\n",
        "\n",
        "find_red_cars(cars)"
      ],
      "metadata": {
        "id": "LYYJMZmsFlDn",
        "colab": {
          "base_uri": "https://localhost:8080/",
          "height": 321
        },
        "outputId": "4cc962ca-17c3-4ddd-eea9-6e6bf72770ac"
      },
      "execution_count": null,
      "outputs": [
        {
          "output_type": "error",
          "ename": "TypeError",
          "evalue": "ignored",
          "traceback": [
            "\u001b[0;31m---------------------------------------------------------------------------\u001b[0m",
            "\u001b[0;31mTypeError\u001b[0m                                 Traceback (most recent call last)",
            "\u001b[0;32m<ipython-input-14-89de3e99419c>\u001b[0m in \u001b[0;36m<module>\u001b[0;34m\u001b[0m\n\u001b[1;32m     22\u001b[0m   \u001b[0mprint\u001b[0m\u001b[0;34m(\u001b[0m\u001b[0;34mf'Number of Red Cars = {red_cars}'\u001b[0m\u001b[0;34m)\u001b[0m\u001b[0;34m\u001b[0m\u001b[0;34m\u001b[0m\u001b[0m\n\u001b[1;32m     23\u001b[0m \u001b[0;34m\u001b[0m\u001b[0m\n\u001b[0;32m---> 24\u001b[0;31m \u001b[0mfind_red_cars\u001b[0m\u001b[0;34m(\u001b[0m\u001b[0mcars\u001b[0m\u001b[0;34m)\u001b[0m\u001b[0;34m\u001b[0m\u001b[0;34m\u001b[0m\u001b[0m\n\u001b[0m",
            "\u001b[0;32m<ipython-input-14-89de3e99419c>\u001b[0m in \u001b[0;36mfind_red_cars\u001b[0;34m(cars)\u001b[0m\n\u001b[1;32m     18\u001b[0m   \u001b[0mred_cars\u001b[0m \u001b[0;34m=\u001b[0m \u001b[0;36m0\u001b[0m\u001b[0;34m\u001b[0m\u001b[0;34m\u001b[0m\u001b[0m\n\u001b[1;32m     19\u001b[0m   \u001b[0;32mfor\u001b[0m \u001b[0mcar\u001b[0m \u001b[0;32min\u001b[0m \u001b[0mcars\u001b[0m\u001b[0;34m:\u001b[0m\u001b[0;34m\u001b[0m\u001b[0;34m\u001b[0m\u001b[0m\n\u001b[0;32m---> 20\u001b[0;31m     \u001b[0;32mif\u001b[0m \u001b[0mcar\u001b[0m\u001b[0;34m.\u001b[0m\u001b[0mproperties\u001b[0m\u001b[0;34m[\u001b[0m\u001b[0;34m'Color'\u001b[0m\u001b[0;34m]\u001b[0m \u001b[0;34m==\u001b[0m \u001b[0;34m\"Red\"\u001b[0m\u001b[0;34m:\u001b[0m\u001b[0;34m\u001b[0m\u001b[0;34m\u001b[0m\u001b[0m\n\u001b[0m\u001b[1;32m     21\u001b[0m       \u001b[0mred_cars\u001b[0m \u001b[0;34m+=\u001b[0m \u001b[0;36m1\u001b[0m\u001b[0;34m\u001b[0m\u001b[0;34m\u001b[0m\u001b[0m\n\u001b[1;32m     22\u001b[0m   \u001b[0mprint\u001b[0m\u001b[0;34m(\u001b[0m\u001b[0;34mf'Number of Red Cars = {red_cars}'\u001b[0m\u001b[0;34m)\u001b[0m\u001b[0;34m\u001b[0m\u001b[0;34m\u001b[0m\u001b[0m\n",
            "\u001b[0;31mTypeError\u001b[0m: tuple indices must be integers or slices, not str"
          ]
        }
      ]
    },
    {
      "cell_type": "code",
      "source": [
        "class Car():\n",
        "  def __init__(self, type):\n",
        "    self.type = type\n",
        "    self.car_properties = {}\n",
        "  \n",
        "  def set_properties(self, color, gear, capacity):\n",
        "    self.car_properties = {\"Color\": color, \"Gear\": gear, \"Capacity\": capacity}\n",
        "\n",
        "  def get_properties(self):\n",
        "    return self.car_properties\n",
        "\n",
        "class PetrolCar(Car):\n",
        "  def __init__(self, type):\n",
        "    self.type = type\n",
        "    self.car_properties = {}\n",
        "\n",
        "car = Car(\"SUV\")\n",
        "car.set_properties(\"Red\", \"Auto\", 6)\n",
        "\n",
        "petrol_car = PetrolCar(\"Sedan\")\n",
        "petrol_car.set_properties(\"Blue\", \"Manual\", 4)\n",
        "\n",
        "cars = [car, petrol_car]\n",
        "\n",
        "def find_red_cars(cars):\n",
        "  red_cars = 0\n",
        "  for car in cars:\n",
        "    if car.get_properties()['Color'] == \"Red\":\n",
        "      red_cars += 1\n",
        "  print(f'Number of Red Cars = {red_cars}')\n",
        "\n",
        "find_red_cars(cars)"
      ],
      "metadata": {
        "id": "ykc-l7_R5ELQ",
        "colab": {
          "base_uri": "https://localhost:8080/"
        },
        "outputId": "d22fd236-84f7-4ba1-b387-ae68f8baad8b"
      },
      "execution_count": null,
      "outputs": [
        {
          "output_type": "stream",
          "name": "stdout",
          "text": [
            "Number of Red Cars = 1\n"
          ]
        }
      ]
    },
    {
      "cell_type": "code",
      "source": [],
      "metadata": {
        "id": "-x8X73WA5Vao"
      },
      "execution_count": null,
      "outputs": []
    }
  ]
}